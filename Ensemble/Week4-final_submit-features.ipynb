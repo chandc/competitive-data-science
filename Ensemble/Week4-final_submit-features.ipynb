{
 "cells": [
  {
   "cell_type": "markdown",
   "metadata": {},
   "source": [
    "Version 1.0.1"
   ]
  },
  {
   "cell_type": "markdown",
   "metadata": {},
   "source": [
    "# Check software versions"
   ]
  },
  {
   "cell_type": "code",
   "execution_count": 1,
   "metadata": {},
   "outputs": [
    {
     "name": "stdout",
     "output_type": "stream",
     "text": [
      "numpy 1.13.3\n",
      "pandas 0.20.3\n",
      "scipy 0.19.1\n",
      "sklearn 0.19.1\n",
      "lightgbm 2.0.6\n"
     ]
    }
   ],
   "source": [
    "import numpy as np\n",
    "import pandas as pd \n",
    "import sklearn\n",
    "import scipy.sparse \n",
    "import lightgbm \n",
    "\n",
    "for p in [np, pd, scipy, sklearn, lightgbm]:\n",
    "    print (p.__name__, p.__version__)"
   ]
  },
  {
   "cell_type": "markdown",
   "metadata": {},
   "source": [
    "### setup the environment"
   ]
  },
  {
   "cell_type": "code",
   "execution_count": 2,
   "metadata": {
    "collapsed": true
   },
   "outputs": [],
   "source": [
    "import pandas as pd\n",
    "import numpy as np\n",
    "import gc\n",
    "import matplotlib.pyplot as plt\n",
    "%matplotlib inline \n",
    "\n",
    "pd.set_option('display.max_rows', 600)\n",
    "pd.set_option('display.max_columns', 50)\n",
    "\n",
    "import lightgbm as lgb\n",
    "from sklearn.linear_model import LinearRegression\n",
    "from sklearn.metrics import r2_score\n",
    "from sklearn.metrics import mean_squared_error\n",
    "\n",
    "\n",
    "from tqdm import tqdm_notebook\n",
    "\n",
    "from itertools import product\n",
    "\n",
    "\n",
    "def downcast_dtypes(df):\n",
    "    '''\n",
    "        Changes column types in the dataframe: \n",
    "                \n",
    "                `float64` type to `float32`\n",
    "                `int64`   type to `int32`\n",
    "    '''\n",
    "    \n",
    "    # Select columns to downcast\n",
    "    float_cols = [c for c in df if df[c].dtype == \"float64\"]\n",
    "    int_cols =   [c for c in df if df[c].dtype == \"int64\"]\n",
    "    \n",
    "    # Downcast\n",
    "    df[float_cols] = df[float_cols].astype(np.float32)\n",
    "    df[int_cols]   = df[int_cols].astype(np.int32)\n",
    "    \n",
    "    return df"
   ]
  },
  {
   "cell_type": "markdown",
   "metadata": {},
   "source": [
    "### Load data files"
   ]
  },
  {
   "cell_type": "code",
   "execution_count": 3,
   "metadata": {
    "collapsed": true
   },
   "outputs": [],
   "source": [
    "sales = pd.read_csv('../Final Project/sales_train.csv.gz')\n",
    "shops = pd.read_csv('../Final Project/shops.csv')\n",
    "items = pd.read_csv('../Final Project/items.csv')\n",
    "item_cats = pd.read_csv('../Final Project/item_categories.csv')\n",
    "ww = pd.read_csv('../Final Project/test.csv.gz')"
   ]
  },
  {
   "cell_type": "markdown",
   "metadata": {},
   "source": [
    "### concatenate `test` file to the end of `sales` dataframe so we can calculate meta-features consistently"
   ]
  },
  {
   "cell_type": "code",
   "execution_count": 4,
   "metadata": {},
   "outputs": [
    {
     "name": "stdout",
     "output_type": "stream",
     "text": [
      "   ID  shop_id  item_id\n",
      "0   0        5     5037\n",
      "1   1        5     5320\n",
      "2   2        5     5233\n",
      "3   3        5     5232\n",
      "4   4        5     5268\n"
     ]
    }
   ],
   "source": [
    "#print (sales.head(5))\n",
    "print (ww.head(5))\n",
    "del sales['date'] \n",
    "del sales['item_price']\n",
    "del ww['ID']\n",
    "ww['item_cnt_day'] = 0\n",
    "ww['date_block_num'] = 34\n",
    "\n",
    "sales = pd.concat([sales,ww],ignore_index=True)\n"
   ]
  },
  {
   "cell_type": "markdown",
   "metadata": {},
   "source": [
    "# Get a feature matrix"
   ]
  },
  {
   "cell_type": "code",
   "execution_count": 5,
   "metadata": {},
   "outputs": [
    {
     "name": "stderr",
     "output_type": "stream",
     "text": [
      "/home/danielchan/anaconda3/lib/python3.6/site-packages/pandas/core/groupby.py:4036: FutureWarning: using a dict with renaming is deprecated and will be removed in a future version\n",
      "  return super(DataFrameGroupBy, self).aggregate(arg, *args, **kwargs)\n"
     ]
    }
   ],
   "source": [
    "# Create \"grid\" with columns\n",
    "index_cols = ['shop_id', 'item_id', 'date_block_num']\n",
    "\n",
    "# For every month we create a grid from all shops/items combinations from that month\n",
    "grid = [] \n",
    "for block_num in sales['date_block_num'].unique():\n",
    "    cur_shops = sales.loc[sales['date_block_num'] == block_num, 'shop_id'].unique()\n",
    "    cur_items = sales.loc[sales['date_block_num'] == block_num, 'item_id'].unique()\n",
    "    grid.append(np.array(list(product(*[cur_shops, cur_items, [block_num]])),dtype='int32'))\n",
    "\n",
    "# Turn the grid into a dataframe\n",
    "grid = pd.DataFrame(np.vstack(grid), columns = index_cols,dtype=np.int32)\n",
    "\n",
    "# Groupby data to get shop-item-month aggregates\n",
    "gb = sales.groupby(index_cols,as_index=False).agg({'item_cnt_day':{'target':'sum'}})\n",
    "# Fix column names\n",
    "gb.columns = [col[0] if col[-1]=='' else col[-1] for col in gb.columns.values] \n",
    "# Join it to the grid\n",
    "all_data = pd.merge(grid, gb, how='left', on=index_cols).fillna(0)\n",
    "\n",
    "# additional features derived from sales statistics: max, min and std \n",
    "\n",
    "# Same as above but with shop-item-month max\n",
    "gb = sales.groupby(index_cols,as_index=False).agg({'item_cnt_day':{'target_max':np.max}})\n",
    "gb.columns = [col[0] if col[-1]=='' else col[-1] for col in gb.columns.values]\n",
    "all_data = pd.merge(all_data, gb, how='left', on=index_cols).fillna(0)\n",
    "\n",
    "# Same as above but with shop-item-month min\n",
    "gb = sales.groupby(index_cols,as_index=False).agg({'item_cnt_day':{'target_min':np.min}})\n",
    "gb.columns = [col[0] if col[-1]=='' else col[-1] for col in gb.columns.values]\n",
    "all_data = pd.merge(all_data, gb, how='left', on=index_cols).fillna(0)\n",
    "\n",
    "# Same as above but with shop-item-month mean\n",
    "gb = sales.groupby(index_cols,as_index=False).agg({'item_cnt_day':{'target_mean':np.mean}})\n",
    "gb.columns = [col[0] if col[-1]=='' else col[-1] for col in gb.columns.values]\n",
    "all_data = pd.merge(all_data, gb, how='left', on=index_cols).fillna(0)\n",
    "\n",
    "# Same as above but with shop-month aggregates\n",
    "gb = sales.groupby(['shop_id', 'date_block_num'],as_index=False).agg({'item_cnt_day':{'target_shop':'sum'}})\n",
    "gb.columns = [col[0] if col[-1]=='' else col[-1] for col in gb.columns.values]\n",
    "all_data = pd.merge(all_data, gb, how='left', on=['shop_id', 'date_block_num']).fillna(0)\n",
    "\n",
    "# Same as above but with item-month aggregates\n",
    "gb = sales.groupby(['item_id', 'date_block_num'],as_index=False).agg({'item_cnt_day':{'target_item':'sum'}})\n",
    "gb.columns = [col[0] if col[-1] == '' else col[-1] for col in gb.columns.values]\n",
    "all_data = pd.merge(all_data, gb, how='left', on=['item_id', 'date_block_num']).fillna(0)\n",
    "\n",
    "# Downcast dtypes from 64 to 32 bit to save memory\n",
    "all_data = downcast_dtypes(all_data)\n",
    "del grid, gb \n",
    "gc.collect();"
   ]
  },
  {
   "cell_type": "markdown",
   "metadata": {},
   "source": [
    "### Add Expanding Mean Encoding for items"
   ]
  },
  {
   "cell_type": "code",
   "execution_count": 6,
   "metadata": {},
   "outputs": [
    {
     "name": "stdout",
     "output_type": "stream",
     "text": [
      "0.499605291823\n"
     ]
    }
   ],
   "source": [
    "globalmean = all_data['target'].mean()\n",
    "\n",
    "csum   = all_data.groupby('item_id')['target'].cumsum() - all_data['target']\n",
    "cumcnt = all_data.groupby('item_id').cumcount()\n",
    "\n",
    "small = 0.\n",
    "\n",
    "all_data['Expanding Mean'] = csum/(cumcnt+small)\n",
    "all_data['Expanding Mean'].fillna(globalmean, inplace=True)    # Fill NaNs with global mean\n",
    "\n",
    "encoded_feature = all_data['Expanding Mean'].values\n",
    "\n",
    "\n",
    "corr = np.corrcoef(all_data['target'].values, encoded_feature)[0][1]\n",
    "print(corr)"
   ]
  },
  {
   "cell_type": "code",
   "execution_count": 7,
   "metadata": {},
   "outputs": [
    {
     "name": "stdout",
     "output_type": "stream",
     "text": [
      "(11128050, 10)\n"
     ]
    }
   ],
   "source": [
    "print (all_data.shape)"
   ]
  },
  {
   "cell_type": "markdown",
   "metadata": {},
   "source": [
    "After creating a grid, we can calculate some features. We will use lags from [1, 2, 3, 4, 5, 12] months ago."
   ]
  },
  {
   "cell_type": "code",
   "execution_count": 8,
   "metadata": {},
   "outputs": [
    {
     "data": {
      "application/vnd.jupyter.widget-view+json": {
       "model_id": "89f456130eef40bdaafdd38b490ba7f4",
       "version_major": 2,
       "version_minor": 0
      },
      "text/plain": [
       "A Jupyter Widget"
      ]
     },
     "metadata": {},
     "output_type": "display_data"
    },
    {
     "name": "stdout",
     "output_type": "stream",
     "text": [
      "\n"
     ]
    }
   ],
   "source": [
    "# List of columns that we will use to create lags\n",
    "cols_to_rename = list(all_data.columns.difference(index_cols)) \n",
    "\n",
    "shift_range = [1, 2, 3, 4, 5, 12]\n",
    "\n",
    "for month_shift in tqdm_notebook(shift_range):\n",
    "    train_shift = all_data[index_cols + cols_to_rename].copy()\n",
    "    \n",
    "    train_shift['date_block_num'] = train_shift['date_block_num'] + month_shift\n",
    "    \n",
    "    foo = lambda x: '{}_lag_{}'.format(x, month_shift) if x in cols_to_rename else x\n",
    "    train_shift = train_shift.rename(columns=foo)\n",
    "\n",
    "    all_data = pd.merge(all_data, train_shift, on=index_cols, how='left').fillna(0)\n",
    "\n",
    "del train_shift\n",
    "\n",
    "# Don't use old data from year 2013\n",
    "all_data = all_data[all_data['date_block_num'] >= 12] \n",
    "\n",
    "# List of all lagged features\n",
    "fit_cols = [col for col in all_data.columns if col[-1] in [str(item) for item in shift_range]] \n",
    "# We will drop these at fitting stage\n",
    "to_drop_cols = list(set(list(all_data.columns)) - (set(fit_cols)|set(index_cols))) + ['date_block_num'] \n",
    "\n",
    "# Category for each item\n",
    "item_category_mapping = items[['item_id','item_category_id']].drop_duplicates()\n",
    "\n",
    "all_data = pd.merge(all_data, item_category_mapping, how='left', on='item_id')\n",
    "all_data = downcast_dtypes(all_data)\n",
    "gc.collect();"
   ]
  },
  {
   "cell_type": "markdown",
   "metadata": {},
   "source": [
    "Take a look at the `all_data` variable"
   ]
  },
  {
   "cell_type": "code",
   "execution_count": 9,
   "metadata": {},
   "outputs": [
    {
     "data": {
      "text/html": [
       "<div>\n",
       "<style>\n",
       "    .dataframe thead tr:only-child th {\n",
       "        text-align: right;\n",
       "    }\n",
       "\n",
       "    .dataframe thead th {\n",
       "        text-align: left;\n",
       "    }\n",
       "\n",
       "    .dataframe tbody tr th {\n",
       "        vertical-align: top;\n",
       "    }\n",
       "</style>\n",
       "<table border=\"1\" class=\"dataframe\">\n",
       "  <thead>\n",
       "    <tr style=\"text-align: right;\">\n",
       "      <th></th>\n",
       "      <th>shop_id</th>\n",
       "      <th>item_id</th>\n",
       "      <th>date_block_num</th>\n",
       "      <th>target</th>\n",
       "      <th>target_max</th>\n",
       "      <th>target_min</th>\n",
       "      <th>target_mean</th>\n",
       "      <th>target_shop</th>\n",
       "      <th>target_item</th>\n",
       "      <th>Expanding Mean</th>\n",
       "      <th>Expanding Mean_lag_1</th>\n",
       "      <th>target_lag_1</th>\n",
       "      <th>target_item_lag_1</th>\n",
       "      <th>target_max_lag_1</th>\n",
       "      <th>target_mean_lag_1</th>\n",
       "      <th>target_min_lag_1</th>\n",
       "      <th>target_shop_lag_1</th>\n",
       "      <th>Expanding Mean_lag_2</th>\n",
       "      <th>target_lag_2</th>\n",
       "      <th>target_item_lag_2</th>\n",
       "      <th>target_max_lag_2</th>\n",
       "      <th>target_mean_lag_2</th>\n",
       "      <th>target_min_lag_2</th>\n",
       "      <th>target_shop_lag_2</th>\n",
       "      <th>Expanding Mean_lag_3</th>\n",
       "      <th>...</th>\n",
       "      <th>target_mean_lag_3</th>\n",
       "      <th>target_min_lag_3</th>\n",
       "      <th>target_shop_lag_3</th>\n",
       "      <th>Expanding Mean_lag_4</th>\n",
       "      <th>target_lag_4</th>\n",
       "      <th>target_item_lag_4</th>\n",
       "      <th>target_max_lag_4</th>\n",
       "      <th>target_mean_lag_4</th>\n",
       "      <th>target_min_lag_4</th>\n",
       "      <th>target_shop_lag_4</th>\n",
       "      <th>Expanding Mean_lag_5</th>\n",
       "      <th>target_lag_5</th>\n",
       "      <th>target_item_lag_5</th>\n",
       "      <th>target_max_lag_5</th>\n",
       "      <th>target_mean_lag_5</th>\n",
       "      <th>target_min_lag_5</th>\n",
       "      <th>target_shop_lag_5</th>\n",
       "      <th>Expanding Mean_lag_12</th>\n",
       "      <th>target_lag_12</th>\n",
       "      <th>target_item_lag_12</th>\n",
       "      <th>target_max_lag_12</th>\n",
       "      <th>target_mean_lag_12</th>\n",
       "      <th>target_min_lag_12</th>\n",
       "      <th>target_shop_lag_12</th>\n",
       "      <th>item_category_id</th>\n",
       "    </tr>\n",
       "  </thead>\n",
       "  <tbody>\n",
       "    <tr>\n",
       "      <th>0</th>\n",
       "      <td>54</td>\n",
       "      <td>10297</td>\n",
       "      <td>12</td>\n",
       "      <td>4.0</td>\n",
       "      <td>1.0</td>\n",
       "      <td>1.0</td>\n",
       "      <td>1.000000</td>\n",
       "      <td>8198.0</td>\n",
       "      <td>23.0</td>\n",
       "      <td>0.483516</td>\n",
       "      <td>0.408451</td>\n",
       "      <td>3.0</td>\n",
       "      <td>42.0</td>\n",
       "      <td>1.0</td>\n",
       "      <td>1.0</td>\n",
       "      <td>1.0</td>\n",
       "      <td>10055.0</td>\n",
       "      <td>0.064516</td>\n",
       "      <td>0.0</td>\n",
       "      <td>2.0</td>\n",
       "      <td>0.0</td>\n",
       "      <td>0.000000</td>\n",
       "      <td>0.0</td>\n",
       "      <td>7978.0</td>\n",
       "      <td>0.000000</td>\n",
       "      <td>...</td>\n",
       "      <td>0.0</td>\n",
       "      <td>0.0</td>\n",
       "      <td>0.0</td>\n",
       "      <td>0.000000</td>\n",
       "      <td>0.0</td>\n",
       "      <td>0.0</td>\n",
       "      <td>0.0</td>\n",
       "      <td>0.0</td>\n",
       "      <td>0.0</td>\n",
       "      <td>0.0</td>\n",
       "      <td>0.000000</td>\n",
       "      <td>0.0</td>\n",
       "      <td>0.0</td>\n",
       "      <td>0.0</td>\n",
       "      <td>0.0</td>\n",
       "      <td>0.0</td>\n",
       "      <td>0.0</td>\n",
       "      <td>0.0</td>\n",
       "      <td>0.0</td>\n",
       "      <td>0.0</td>\n",
       "      <td>0.0</td>\n",
       "      <td>0.0</td>\n",
       "      <td>0.0</td>\n",
       "      <td>0.0</td>\n",
       "      <td>37</td>\n",
       "    </tr>\n",
       "    <tr>\n",
       "      <th>1</th>\n",
       "      <td>54</td>\n",
       "      <td>10296</td>\n",
       "      <td>12</td>\n",
       "      <td>3.0</td>\n",
       "      <td>1.0</td>\n",
       "      <td>1.0</td>\n",
       "      <td>1.000000</td>\n",
       "      <td>8198.0</td>\n",
       "      <td>17.0</td>\n",
       "      <td>0.521739</td>\n",
       "      <td>0.615385</td>\n",
       "      <td>0.0</td>\n",
       "      <td>24.0</td>\n",
       "      <td>0.0</td>\n",
       "      <td>0.0</td>\n",
       "      <td>0.0</td>\n",
       "      <td>10055.0</td>\n",
       "      <td>0.000000</td>\n",
       "      <td>0.0</td>\n",
       "      <td>0.0</td>\n",
       "      <td>0.0</td>\n",
       "      <td>0.000000</td>\n",
       "      <td>0.0</td>\n",
       "      <td>0.0</td>\n",
       "      <td>0.000000</td>\n",
       "      <td>...</td>\n",
       "      <td>0.0</td>\n",
       "      <td>0.0</td>\n",
       "      <td>0.0</td>\n",
       "      <td>0.000000</td>\n",
       "      <td>0.0</td>\n",
       "      <td>0.0</td>\n",
       "      <td>0.0</td>\n",
       "      <td>0.0</td>\n",
       "      <td>0.0</td>\n",
       "      <td>0.0</td>\n",
       "      <td>0.000000</td>\n",
       "      <td>0.0</td>\n",
       "      <td>0.0</td>\n",
       "      <td>0.0</td>\n",
       "      <td>0.0</td>\n",
       "      <td>0.0</td>\n",
       "      <td>0.0</td>\n",
       "      <td>0.0</td>\n",
       "      <td>0.0</td>\n",
       "      <td>0.0</td>\n",
       "      <td>0.0</td>\n",
       "      <td>0.0</td>\n",
       "      <td>0.0</td>\n",
       "      <td>0.0</td>\n",
       "      <td>38</td>\n",
       "    </tr>\n",
       "    <tr>\n",
       "      <th>2</th>\n",
       "      <td>54</td>\n",
       "      <td>10298</td>\n",
       "      <td>12</td>\n",
       "      <td>14.0</td>\n",
       "      <td>3.0</td>\n",
       "      <td>1.0</td>\n",
       "      <td>1.555556</td>\n",
       "      <td>8198.0</td>\n",
       "      <td>182.0</td>\n",
       "      <td>13.299270</td>\n",
       "      <td>14.136752</td>\n",
       "      <td>21.0</td>\n",
       "      <td>369.0</td>\n",
       "      <td>3.0</td>\n",
       "      <td>1.5</td>\n",
       "      <td>1.0</td>\n",
       "      <td>10055.0</td>\n",
       "      <td>11.935065</td>\n",
       "      <td>119.0</td>\n",
       "      <td>1309.0</td>\n",
       "      <td>15.0</td>\n",
       "      <td>4.958333</td>\n",
       "      <td>1.0</td>\n",
       "      <td>7978.0</td>\n",
       "      <td>3.166667</td>\n",
       "      <td>...</td>\n",
       "      <td>3.5</td>\n",
       "      <td>2.0</td>\n",
       "      <td>6676.0</td>\n",
       "      <td>0.000000</td>\n",
       "      <td>0.0</td>\n",
       "      <td>0.0</td>\n",
       "      <td>0.0</td>\n",
       "      <td>0.0</td>\n",
       "      <td>0.0</td>\n",
       "      <td>0.0</td>\n",
       "      <td>0.000000</td>\n",
       "      <td>0.0</td>\n",
       "      <td>0.0</td>\n",
       "      <td>0.0</td>\n",
       "      <td>0.0</td>\n",
       "      <td>0.0</td>\n",
       "      <td>0.0</td>\n",
       "      <td>0.0</td>\n",
       "      <td>0.0</td>\n",
       "      <td>0.0</td>\n",
       "      <td>0.0</td>\n",
       "      <td>0.0</td>\n",
       "      <td>0.0</td>\n",
       "      <td>0.0</td>\n",
       "      <td>40</td>\n",
       "    </tr>\n",
       "    <tr>\n",
       "      <th>3</th>\n",
       "      <td>54</td>\n",
       "      <td>10300</td>\n",
       "      <td>12</td>\n",
       "      <td>3.0</td>\n",
       "      <td>1.0</td>\n",
       "      <td>1.0</td>\n",
       "      <td>1.000000</td>\n",
       "      <td>8198.0</td>\n",
       "      <td>26.0</td>\n",
       "      <td>3.416058</td>\n",
       "      <td>3.829060</td>\n",
       "      <td>1.0</td>\n",
       "      <td>54.0</td>\n",
       "      <td>1.0</td>\n",
       "      <td>1.0</td>\n",
       "      <td>1.0</td>\n",
       "      <td>10055.0</td>\n",
       "      <td>3.727273</td>\n",
       "      <td>31.0</td>\n",
       "      <td>361.0</td>\n",
       "      <td>5.0</td>\n",
       "      <td>2.214286</td>\n",
       "      <td>1.0</td>\n",
       "      <td>7978.0</td>\n",
       "      <td>0.944444</td>\n",
       "      <td>...</td>\n",
       "      <td>0.0</td>\n",
       "      <td>0.0</td>\n",
       "      <td>6676.0</td>\n",
       "      <td>0.000000</td>\n",
       "      <td>0.0</td>\n",
       "      <td>0.0</td>\n",
       "      <td>0.0</td>\n",
       "      <td>0.0</td>\n",
       "      <td>0.0</td>\n",
       "      <td>0.0</td>\n",
       "      <td>0.000000</td>\n",
       "      <td>0.0</td>\n",
       "      <td>0.0</td>\n",
       "      <td>0.0</td>\n",
       "      <td>0.0</td>\n",
       "      <td>0.0</td>\n",
       "      <td>0.0</td>\n",
       "      <td>0.0</td>\n",
       "      <td>0.0</td>\n",
       "      <td>0.0</td>\n",
       "      <td>0.0</td>\n",
       "      <td>0.0</td>\n",
       "      <td>0.0</td>\n",
       "      <td>0.0</td>\n",
       "      <td>37</td>\n",
       "    </tr>\n",
       "    <tr>\n",
       "      <th>4</th>\n",
       "      <td>54</td>\n",
       "      <td>10284</td>\n",
       "      <td>12</td>\n",
       "      <td>1.0</td>\n",
       "      <td>1.0</td>\n",
       "      <td>1.0</td>\n",
       "      <td>1.000000</td>\n",
       "      <td>8198.0</td>\n",
       "      <td>3.0</td>\n",
       "      <td>0.133772</td>\n",
       "      <td>0.135321</td>\n",
       "      <td>0.0</td>\n",
       "      <td>4.0</td>\n",
       "      <td>0.0</td>\n",
       "      <td>0.0</td>\n",
       "      <td>0.0</td>\n",
       "      <td>10055.0</td>\n",
       "      <td>0.138889</td>\n",
       "      <td>0.0</td>\n",
       "      <td>3.0</td>\n",
       "      <td>0.0</td>\n",
       "      <td>0.000000</td>\n",
       "      <td>0.0</td>\n",
       "      <td>7978.0</td>\n",
       "      <td>0.151335</td>\n",
       "      <td>...</td>\n",
       "      <td>0.0</td>\n",
       "      <td>0.0</td>\n",
       "      <td>6676.0</td>\n",
       "      <td>0.166065</td>\n",
       "      <td>0.0</td>\n",
       "      <td>3.0</td>\n",
       "      <td>0.0</td>\n",
       "      <td>0.0</td>\n",
       "      <td>0.0</td>\n",
       "      <td>7827.0</td>\n",
       "      <td>0.160173</td>\n",
       "      <td>0.0</td>\n",
       "      <td>10.0</td>\n",
       "      <td>0.0</td>\n",
       "      <td>0.0</td>\n",
       "      <td>0.0</td>\n",
       "      <td>7792.0</td>\n",
       "      <td>0.0</td>\n",
       "      <td>0.0</td>\n",
       "      <td>0.0</td>\n",
       "      <td>0.0</td>\n",
       "      <td>0.0</td>\n",
       "      <td>0.0</td>\n",
       "      <td>0.0</td>\n",
       "      <td>57</td>\n",
       "    </tr>\n",
       "  </tbody>\n",
       "</table>\n",
       "<p>5 rows × 53 columns</p>\n",
       "</div>"
      ],
      "text/plain": [
       "   shop_id  item_id  date_block_num  target  target_max  target_min  \\\n",
       "0       54    10297              12     4.0         1.0         1.0   \n",
       "1       54    10296              12     3.0         1.0         1.0   \n",
       "2       54    10298              12    14.0         3.0         1.0   \n",
       "3       54    10300              12     3.0         1.0         1.0   \n",
       "4       54    10284              12     1.0         1.0         1.0   \n",
       "\n",
       "   target_mean  target_shop  target_item  Expanding Mean  \\\n",
       "0     1.000000       8198.0         23.0        0.483516   \n",
       "1     1.000000       8198.0         17.0        0.521739   \n",
       "2     1.555556       8198.0        182.0       13.299270   \n",
       "3     1.000000       8198.0         26.0        3.416058   \n",
       "4     1.000000       8198.0          3.0        0.133772   \n",
       "\n",
       "   Expanding Mean_lag_1  target_lag_1  target_item_lag_1  target_max_lag_1  \\\n",
       "0              0.408451           3.0               42.0               1.0   \n",
       "1              0.615385           0.0               24.0               0.0   \n",
       "2             14.136752          21.0              369.0               3.0   \n",
       "3              3.829060           1.0               54.0               1.0   \n",
       "4              0.135321           0.0                4.0               0.0   \n",
       "\n",
       "   target_mean_lag_1  target_min_lag_1  target_shop_lag_1  \\\n",
       "0                1.0               1.0            10055.0   \n",
       "1                0.0               0.0            10055.0   \n",
       "2                1.5               1.0            10055.0   \n",
       "3                1.0               1.0            10055.0   \n",
       "4                0.0               0.0            10055.0   \n",
       "\n",
       "   Expanding Mean_lag_2  target_lag_2  target_item_lag_2  target_max_lag_2  \\\n",
       "0              0.064516           0.0                2.0               0.0   \n",
       "1              0.000000           0.0                0.0               0.0   \n",
       "2             11.935065         119.0             1309.0              15.0   \n",
       "3              3.727273          31.0              361.0               5.0   \n",
       "4              0.138889           0.0                3.0               0.0   \n",
       "\n",
       "   target_mean_lag_2  target_min_lag_2  target_shop_lag_2  \\\n",
       "0           0.000000               0.0             7978.0   \n",
       "1           0.000000               0.0                0.0   \n",
       "2           4.958333               1.0             7978.0   \n",
       "3           2.214286               1.0             7978.0   \n",
       "4           0.000000               0.0             7978.0   \n",
       "\n",
       "   Expanding Mean_lag_3        ...         target_mean_lag_3  \\\n",
       "0              0.000000        ...                       0.0   \n",
       "1              0.000000        ...                       0.0   \n",
       "2              3.166667        ...                       3.5   \n",
       "3              0.944444        ...                       0.0   \n",
       "4              0.151335        ...                       0.0   \n",
       "\n",
       "   target_min_lag_3  target_shop_lag_3  Expanding Mean_lag_4  target_lag_4  \\\n",
       "0               0.0                0.0              0.000000           0.0   \n",
       "1               0.0                0.0              0.000000           0.0   \n",
       "2               2.0             6676.0              0.000000           0.0   \n",
       "3               0.0             6676.0              0.000000           0.0   \n",
       "4               0.0             6676.0              0.166065           0.0   \n",
       "\n",
       "   target_item_lag_4  target_max_lag_4  target_mean_lag_4  target_min_lag_4  \\\n",
       "0                0.0               0.0                0.0               0.0   \n",
       "1                0.0               0.0                0.0               0.0   \n",
       "2                0.0               0.0                0.0               0.0   \n",
       "3                0.0               0.0                0.0               0.0   \n",
       "4                3.0               0.0                0.0               0.0   \n",
       "\n",
       "   target_shop_lag_4  Expanding Mean_lag_5  target_lag_5  target_item_lag_5  \\\n",
       "0                0.0              0.000000           0.0                0.0   \n",
       "1                0.0              0.000000           0.0                0.0   \n",
       "2                0.0              0.000000           0.0                0.0   \n",
       "3                0.0              0.000000           0.0                0.0   \n",
       "4             7827.0              0.160173           0.0               10.0   \n",
       "\n",
       "   target_max_lag_5  target_mean_lag_5  target_min_lag_5  target_shop_lag_5  \\\n",
       "0               0.0                0.0               0.0                0.0   \n",
       "1               0.0                0.0               0.0                0.0   \n",
       "2               0.0                0.0               0.0                0.0   \n",
       "3               0.0                0.0               0.0                0.0   \n",
       "4               0.0                0.0               0.0             7792.0   \n",
       "\n",
       "   Expanding Mean_lag_12  target_lag_12  target_item_lag_12  \\\n",
       "0                    0.0            0.0                 0.0   \n",
       "1                    0.0            0.0                 0.0   \n",
       "2                    0.0            0.0                 0.0   \n",
       "3                    0.0            0.0                 0.0   \n",
       "4                    0.0            0.0                 0.0   \n",
       "\n",
       "   target_max_lag_12  target_mean_lag_12  target_min_lag_12  \\\n",
       "0                0.0                 0.0                0.0   \n",
       "1                0.0                 0.0                0.0   \n",
       "2                0.0                 0.0                0.0   \n",
       "3                0.0                 0.0                0.0   \n",
       "4                0.0                 0.0                0.0   \n",
       "\n",
       "   target_shop_lag_12  item_category_id  \n",
       "0                 0.0                37  \n",
       "1                 0.0                38  \n",
       "2                 0.0                40  \n",
       "3                 0.0                37  \n",
       "4                 0.0                57  \n",
       "\n",
       "[5 rows x 53 columns]"
      ]
     },
     "execution_count": 9,
     "metadata": {},
     "output_type": "execute_result"
    }
   ],
   "source": [
    "all_data.head(5)"
   ]
  },
  {
   "cell_type": "markdown",
   "metadata": {},
   "source": [
    "# Train/test split"
   ]
  },
  {
   "cell_type": "markdown",
   "metadata": {},
   "source": [
    "Split the data into train and test. We will treat last month data as the test set. Test should really be called validation"
   ]
  },
  {
   "cell_type": "code",
   "execution_count": 10,
   "metadata": {},
   "outputs": [
    {
     "name": "stdout",
     "output_type": "stream",
     "text": [
      "Test `date_block_num` is 33\n",
      "Submit `date_block_num` is 34\n"
     ]
    }
   ],
   "source": [
    "# Save `date_block_num`, as we can't use them as features, but will need them to split the dataset into parts \n",
    "dates = all_data['date_block_num']\n",
    "\n",
    "sub_block = dates.max()\n",
    "last_block = dates.max() - 1\n",
    "print('Test `date_block_num` is %d' % last_block)\n",
    "print('Submit `date_block_num` is %d' % sub_block)"
   ]
  },
  {
   "cell_type": "code",
   "execution_count": 11,
   "metadata": {
    "collapsed": true
   },
   "outputs": [],
   "source": [
    "dates_train = dates[dates <  last_block]\n",
    "dates_test  = dates[dates == last_block]\n",
    "\n",
    "X_train = all_data.loc[dates <  last_block].drop(to_drop_cols, axis=1)\n",
    "X_test =  all_data.loc[dates == last_block].drop(to_drop_cols, axis=1)\n",
    "X_sub  =  all_data.loc[dates == sub_block].drop(to_drop_cols, axis=1)\n",
    "\n",
    "\n",
    "y_train = all_data.loc[dates <  last_block, 'target'].values\n",
    "y_test =  all_data.loc[dates == last_block, 'target'].values"
   ]
  },
  {
   "cell_type": "code",
   "execution_count": 12,
   "metadata": {},
   "outputs": [
    {
     "name": "stdout",
     "output_type": "stream",
     "text": [
      "(6186922, 45)\n",
      "(238172, 45)\n",
      "(214200, 45)\n"
     ]
    }
   ],
   "source": [
    "print (X_train.shape)\n",
    "\n",
    "print (X_test.shape)\n",
    "\n",
    "print (X_sub.shape)"
   ]
  },
  {
   "cell_type": "markdown",
   "metadata": {},
   "source": [
    "# First level models "
   ]
  },
  {
   "cell_type": "markdown",
   "metadata": {},
   "source": [
    "### Test meta-features"
   ]
  },
  {
   "cell_type": "code",
   "execution_count": 13,
   "metadata": {},
   "outputs": [
    {
     "name": "stdout",
     "output_type": "stream",
     "text": [
      "Test RMSE for linreg is 0.962656\n"
     ]
    }
   ],
   "source": [
    "# Linear Regression\n",
    "\n",
    "lr = LinearRegression()\n",
    "lr.fit(X_train.values, y_train)\n",
    "pred_lr = lr.predict(X_test.values)\n",
    "\n",
    "pred_lr = pred_lr.clip(0,20.)\n",
    "y_test = y_test.clip(0,20.)\n",
    "\n",
    "print('Test RMSE for linreg is %f' % mean_squared_error(y_test, pred_lr))"
   ]
  },
  {
   "cell_type": "code",
   "execution_count": 14,
   "metadata": {},
   "outputs": [
    {
     "name": "stdout",
     "output_type": "stream",
     "text": [
      "Test RMSE for lassoReg is 0.991678\n"
     ]
    }
   ],
   "source": [
    "# Lasso Regression\n",
    "from sklearn.linear_model import Lasso\n",
    "\n",
    "lassoReg = Lasso(alpha=0.8)\n",
    "lassoReg.fit(X_train.values, y_train) \n",
    "pred_lasso = lassoReg.predict(X_test.values)\n",
    "\n",
    "pred_lasso = pred_lasso.clip(0,20.)\n",
    "y_test = y_test.clip(0,20.)\n",
    "\n",
    "print('Test RMSE for lassoReg is %f' % mean_squared_error(y_test, pred_lasso))"
   ]
  },
  {
   "cell_type": "code",
   "execution_count": 15,
   "metadata": {},
   "outputs": [
    {
     "name": "stdout",
     "output_type": "stream",
     "text": [
      "Ridge(alpha=0.5, copy_X=True, fit_intercept=True, max_iter=None,\n",
      "   normalize=True, random_state=None, solver='auto', tol=0.001)\n",
      "Test RMSE for ridgeReg is 0.976170\n"
     ]
    }
   ],
   "source": [
    "from sklearn.linear_model import Ridge\n",
    "\n",
    "ridgeReg = Ridge(alpha=0.5,normalize=True )\n",
    "\n",
    "print (ridgeReg)\n",
    "ridgeReg.fit(X_train.values, y_train) \n",
    "pred_ridge = ridgeReg.predict(X_test.values)\n",
    "\n",
    "pred_ridge = pred_ridge.clip(0,20.)\n",
    "y_test = y_test.clip(0,20.)\n",
    "\n",
    "print('Test RMSE for ridgeReg is %f' % mean_squared_error(y_test, pred_ridge))"
   ]
  },
  {
   "cell_type": "code",
   "execution_count": 16,
   "metadata": {},
   "outputs": [
    {
     "name": "stdout",
     "output_type": "stream",
     "text": [
      "Test RMSE for LightGBM is 0.906805\n"
     ]
    }
   ],
   "source": [
    "lgb_params = {\n",
    "               'feature_fraction': 0.5,\n",
    "               'metric': 'rmse',\n",
    "               'nthread':8, \n",
    "               'min_data_in_leaf': 2**7, \n",
    "               'bagging_fraction': 0.75, \n",
    "               'learning_rate': 0.01, \n",
    "               'objective': 'mse', \n",
    "               'bagging_seed': 2**7, \n",
    "               'num_leaves': 2**7,\n",
    "               'bagging_freq':1,\n",
    "               'verbose':0 \n",
    "              }\n",
    "\n",
    "model = lgb.train(lgb_params, lgb.Dataset(X_train, label=y_train), 100)\n",
    "pred_lgb = model.predict(X_test)\n",
    "\n",
    "pred_lgb = pred_lgb.clip(0,20.)\n",
    "y_test = y_test.clip(0,20.)\n",
    "\n",
    "print('Test RMSE for LightGBM is %f' % mean_squared_error(y_test, pred_lgb))"
   ]
  },
  {
   "cell_type": "markdown",
   "metadata": {},
   "source": [
    "Finally, concatenate test predictions to get test meta-features."
   ]
  },
  {
   "cell_type": "code",
   "execution_count": 17,
   "metadata": {},
   "outputs": [
    {
     "name": "stdout",
     "output_type": "stream",
     "text": [
      "(238172, 2)\n"
     ]
    }
   ],
   "source": [
    "X_test_level2 = np.c_[pred_lr, pred_lgb] \n",
    "\n",
    "\n",
    "print (X_test_level2.shape)"
   ]
  },
  {
   "cell_type": "markdown",
   "metadata": {},
   "source": [
    "### Meta-Features for the submission file"
   ]
  },
  {
   "cell_type": "code",
   "execution_count": 18,
   "metadata": {},
   "outputs": [
    {
     "name": "stdout",
     "output_type": "stream",
     "text": [
      "(214200, 45)\n",
      "(214200, 2)\n"
     ]
    }
   ],
   "source": [
    "print (X_sub.shape)\n",
    "\n",
    "sub_lr = lr.predict(X_sub.values).clip(0,20.)\n",
    "#sub_lr = lassoReg.predict(X_sub.values).clip(0,20.)\n",
    "sub_lgb = model.predict(X_sub).clip(0,20.)\n",
    "\n",
    "X_sub_level2 = np.c_[sub_lr, sub_lgb] \n",
    "print (X_sub_level2.shape)"
   ]
  },
  {
   "cell_type": "markdown",
   "metadata": {},
   "source": [
    "### Train meta-features"
   ]
  },
  {
   "cell_type": "markdown",
   "metadata": {},
   "source": [
    "Implement ***scheme f)*** from the reading material. Here, we will use duration **T** equal to month and **M=15**.  \n",
    "\n",
    "We need to get predictions (meta-features) from *linear regression* and *LightGBM* for months 27, 28, 29, 30, 31, 32. Use the same parameters as in above models."
   ]
  },
  {
   "cell_type": "code",
   "execution_count": 19,
   "metadata": {
    "collapsed": true
   },
   "outputs": [],
   "source": [
    "dates_train_level2 = dates_train[dates_train.isin([27, 28, 29, 30, 31, 32])]\n",
    "\n",
    "# That is how we get target for the 2nd level dataset\n",
    "y_train_level2 = y_train[dates_train.isin([27, 28, 29, 30, 31, 32])]\n",
    "y_train_level2 = y_train_level2.clip(0,20.)"
   ]
  },
  {
   "cell_type": "code",
   "execution_count": 20,
   "metadata": {},
   "outputs": [
    {
     "name": "stdout",
     "output_type": "stream",
     "text": [
      "27\n",
      "28\n",
      "29\n",
      "30\n",
      "31\n",
      "32\n"
     ]
    }
   ],
   "source": [
    "# And here we create 2nd level feeature matrix, init it with zeros first\n",
    "X_train_level2 = np.zeros([y_train_level2.shape[0], 2])\n",
    "\n",
    "\n",
    "# Now fill `X_train_level2` with metafeatures\n",
    "for cur_block_num in [27, 28, 29, 30, 31, 32]:\n",
    "    \n",
    "    print(cur_block_num)\n",
    "    \n",
    "    Xtemp = X_train[dates_train < cur_block_num]\n",
    "    ytemp = y_train[dates_train < cur_block_num]\n",
    "    \n",
    "    Xtemp_1 = X_train[dates_train == cur_block_num]\n",
    "    \n",
    "    lr.fit(Xtemp.values, ytemp)\n",
    "    pred_lr = lr.predict(Xtemp_1.values)\n",
    "    pred_lr = pred_lr.clip(0,20.)\n",
    "    \n",
    "    model = lgb.train(lgb_params, lgb.Dataset(Xtemp, label=ytemp), 100)\n",
    "    pred_lgb = model.predict(Xtemp_1)\n",
    "    pred_lgb = pred_lgb.clip(0,20.)\n",
    "\n",
    "\n",
    "    #X_train_level2[dates_train_level2==cur_block_num,:2] = np.c_[pred_lr, pred_lgb]\n",
    "    X_train_level2[dates_train_level2==cur_block_num,:] = np.c_[pred_lr, pred_lgb]\n",
    "\n",
    "#print (X_train_level2.shape)\n",
    "#print(X_train_level2.mean(axis=0))    "
   ]
  },
  {
   "cell_type": "markdown",
   "metadata": {},
   "source": [
    "### Make sure there is sufficient diversity between the 2 meta models"
   ]
  },
  {
   "cell_type": "code",
   "execution_count": 21,
   "metadata": {},
   "outputs": [
    {
     "data": {
      "image/png": "[encoded data removed]",
      "text/plain": [
       "<matplotlib.figure.Figure at 0x7fd7c409b9b0>"
      ]
     },
     "metadata": {},
     "output_type": "display_data"
    }
   ],
   "source": [
    "import matplotlib.pyplot as plt\n",
    "\n",
    "plt.scatter(X_train_level2[:,0], X_train_level2[:,1])\n",
    "plt.show()\n"
   ]
  },
  {
   "cell_type": "markdown",
   "metadata": {},
   "source": [
    "# Ensembling"
   ]
  },
  {
   "cell_type": "markdown",
   "metadata": {},
   "source": [
    "Now, when the meta-features are created, we can ensemble our first level models."
   ]
  },
  {
   "cell_type": "markdown",
   "metadata": {},
   "source": [
    "### Simple convex mix"
   ]
  },
  {
   "cell_type": "markdown",
   "metadata": {},
   "source": [
    "Let's start with simple linear convex mix:\n",
    "\n",
    "$$\n",
    "mix= \\alpha\\cdot\\text{linreg_prediction}+(1-\\alpha)\\cdot\\text{lgb_prediction}\n",
    "$$\n",
    "\n",
    "We need to find an optimal $\\alpha$ vy doing a grid search. Find the optimal $\\alpha$ out of `alphas_to_try` array. "
   ]
  },
  {
   "cell_type": "code",
   "execution_count": 22,
   "metadata": {},
   "outputs": [
    {
     "name": "stdout",
     "output_type": "stream",
     "text": [
      "Best alpha: 0.322000; Corresponding RMSE score on train: 0.727047\n"
     ]
    }
   ],
   "source": [
    "alphas_to_try = np.linspace(0, 1, 1001)\n",
    "\n",
    "r2_train_simple_mix = 2.0\n",
    "\n",
    "for alpha in alphas_to_try:\n",
    "    mix = alpha*X_train_level2[:,0] + (1.0-alpha)*X_train_level2[:,1]   \n",
    "    mix = mix.clip(0,20.)\n",
    "    #print (np.amax(y_train_level2 - mix))\n",
    "\n",
    "    rtemp = mean_squared_error(y_train_level2, mix)\n",
    "    if (rtemp < r2_train_simple_mix) :\n",
    "        r2_train_simple_mix = rtemp\n",
    "        best_alpha = alpha\n",
    "        \n",
    "\n",
    "print('Best alpha: %f; Corresponding RMSE score on train: %f' % (best_alpha, r2_train_simple_mix))"
   ]
  },
  {
   "cell_type": "markdown",
   "metadata": {},
   "source": [
    "Now use the best $\\alpha$ to compute predictions for the test set "
   ]
  },
  {
   "cell_type": "code",
   "execution_count": 23,
   "metadata": {},
   "outputs": [
    {
     "name": "stdout",
     "output_type": "stream",
     "text": [
      "(238172, 2)\n",
      "(238172,)\n",
      "(238172,)\n",
      "Test RMSE for simple mix is 0.884453\n"
     ]
    }
   ],
   "source": [
    "test_preds = best_alpha*X_test_level2[:,0]  +  (1.0-best_alpha)*X_test_level2[:,1]\n",
    "\n",
    "test_preds = test_preds.clip(0,20.)\n",
    "y_test = y_test.clip(0,20.)\n",
    "\n",
    "print (X_test_level2.shape)\n",
    "print (y_test.shape)\n",
    "print (test_preds.shape)\n",
    "\n",
    "r2_test_simple_mix = mean_squared_error(y_test, test_preds)     # YOUR CODE GOES HERE\n",
    "\n",
    "print('Test RMSE for simple mix is %f' % r2_test_simple_mix)"
   ]
  },
  {
   "cell_type": "markdown",
   "metadata": {},
   "source": [
    "### Stacking"
   ]
  },
  {
   "cell_type": "markdown",
   "metadata": {},
   "source": [
    "Fit a linear regression model to the meta-features. Use the same parameters as in the model above."
   ]
  },
  {
   "cell_type": "code",
   "execution_count": 24,
   "metadata": {},
   "outputs": [
    {
     "data": {
      "text/plain": [
       "LinearRegression(copy_X=True, fit_intercept=True, n_jobs=1, normalize=False)"
      ]
     },
     "execution_count": 24,
     "metadata": {},
     "output_type": "execute_result"
    }
   ],
   "source": [
    "\n",
    "linReg = LinearRegression(normalize=False)\n",
    "linReg.fit(X_train_level2, y_train_level2)\n"
   ]
  },
  {
   "cell_type": "markdown",
   "metadata": {},
   "source": [
    "Compute RSME on the train and test sets."
   ]
  },
  {
   "cell_type": "code",
   "execution_count": 25,
   "metadata": {},
   "outputs": [
    {
     "name": "stdout",
     "output_type": "stream",
     "text": [
      "Train RMSE for stacking is 0.716274\n",
      "Test  RMSE for stacking is 0.877629\n"
     ]
    }
   ],
   "source": [
    "train_preds = linReg.predict(X_train_level2)  \n",
    "train_preds = train_preds.clip(0,20.)                                       \n",
    "r2_train_stacking = mean_squared_error(y_train_level2, train_preds)     \n",
    "\n",
    "test_preds = linReg.predict(X_test_level2)              \n",
    "test_preds = test_preds.clip(0,20.)                                     \n",
    "\n",
    "r2_test_stacking = mean_squared_error(y_test, test_preds)   \n",
    "\n",
    "print('Train RMSE for stacking is %f' % r2_train_stacking)\n",
    "print('Test  RMSE for stacking is %f' % r2_test_stacking)\n",
    "\n"
   ]
  },
  {
   "cell_type": "markdown",
   "metadata": {},
   "source": [
    "Stacking method produced a lower Test RMSE than simple mix method"
   ]
  },
  {
   "cell_type": "markdown",
   "metadata": {},
   "source": [
    "### Prepare the Submission File"
   ]
  },
  {
   "cell_type": "code",
   "execution_count": 26,
   "metadata": {},
   "outputs": [
    {
     "name": "stdout",
     "output_type": "stream",
     "text": [
      "(214200, 45)\n",
      "(214200,)\n",
      "(214200, 3)\n",
      "(214200, 47)\n"
     ]
    }
   ],
   "source": [
    "sub_preds = linReg.predict(X_sub_level2)              \n",
    "sub_preds = sub_preds.clip(0,20.)  \n",
    "\n",
    "\n",
    "# submission using the simple mix method\n",
    "#sub_preds = best_alpha*X_sub_level2[:,0]  +  (1.0-best_alpha)*X_sub_level2[:,1]\n",
    "#sub_preds = sub_preds.clip(0,20.)\n",
    "\n",
    "\n",
    "print (X_sub.shape)\n",
    "print (sub_preds.shape)\n",
    "\n",
    "X_sub['target'] = sub_preds\n",
    "\n",
    "ww = pd.read_csv('../Final Project/test.csv.gz')\n",
    "\n",
    "\n",
    "submit = pd.merge(ww,X_sub,how='left',on=['shop_id', 'item_id']).fillna(0)\n",
    "\n",
    "print (ww.shape)\n",
    "print (submit.shape)\n",
    "\n",
    "#print (submit.head(10))\n",
    "#print (submit[submit.date_block_num == 0.0].count())\n",
    "\n",
    "submit.to_csv(path_or_buf='submit_max_min.mean_Mean_Encoding_stacking.csv',columns=['ID','target'], header=['ID', 'item_cnt_month'], index=False)"
   ]
  },
  {
   "cell_type": "code",
   "execution_count": null,
   "metadata": {
    "collapsed": true
   },
   "outputs": [],
   "source": []
  },
  {
   "cell_type": "code",
   "execution_count": null,
   "metadata": {
    "collapsed": true
   },
   "outputs": [],
   "source": []
  }
 ],
 "metadata": {
  "kernelspec": {
   "display_name": "Python 3",
   "language": "python",
   "name": "python3"
  },
  "language_info": {
   "codemirror_mode": {
    "name": "ipython",
    "version": 3
   },
   "file_extension": ".py",
   "mimetype": "text/x-python",
   "name": "python",
   "nbconvert_exporter": "python",
   "pygments_lexer": "ipython3",
   "version": "3.6.3"
  }
 },
 "nbformat": 4,
 "nbformat_minor": 2
}
